{
 "cells": [
  {
   "cell_type": "markdown",
   "id": "1a87c7d1-dbc4-4c65-a85c-65653a036dbe",
   "metadata": {},
   "source": [
    "# Tomatoes Multiple Linear Regression Model"
   ]
  },
  {
   "cell_type": "markdown",
   "id": "b24eca84-3bb5-44a3-a6b2-a7adbb85d926",
   "metadata": {},
   "source": [
    "## Import neccessary modules"
   ]
  },
  {
   "cell_type": "code",
   "execution_count": 1,
   "id": "0358e2a1-48db-4f45-8a14-72c4793962da",
   "metadata": {},
   "outputs": [],
   "source": [
    "import pandas as pd\n",
    "import numpy as np\n",
    "import seaborn as sb\n",
    "import matplotlib.pyplot as plt\n",
    "from sklearn.linear_model import LinearRegression"
   ]
  },
  {
   "cell_type": "code",
   "execution_count": null,
   "id": "03961726-e41e-496e-9180-98d1267c7be4",
   "metadata": {},
   "outputs": [],
   "source": []
  }
 ],
 "metadata": {
  "kernelspec": {
   "display_name": "Python 3 (ipykernel)",
   "language": "python",
   "name": "python3"
  },
  "language_info": {
   "codemirror_mode": {
    "name": "ipython",
    "version": 3
   },
   "file_extension": ".py",
   "mimetype": "text/x-python",
   "name": "python",
   "nbconvert_exporter": "python",
   "pygments_lexer": "ipython3",
   "version": "3.11.7"
  }
 },
 "nbformat": 4,
 "nbformat_minor": 5
}
