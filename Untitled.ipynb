{
 "cells": [
  {
   "cell_type": "code",
   "execution_count": 24,
   "id": "00124351-6aff-4d7f-84f2-ca8f03961a3f",
   "metadata": {},
   "outputs": [],
   "source": [
    "import seaborn as sns\n",
    "import pandas as pd\n",
    "import numpy as np\n",
    "import matplotlib.pyplot as plt\n",
    "from sklearn.model_selection import train_test_split"
   ]
  },
  {
   "cell_type": "code",
   "execution_count": 25,
   "id": "d10acd0b-1be2-4e90-8665-f571b1c5fe4e",
   "metadata": {},
   "outputs": [
    {
     "data": {
      "text/html": [
       "<div>\n",
       "<style scoped>\n",
       "    .dataframe tbody tr th:only-of-type {\n",
       "        vertical-align: middle;\n",
       "    }\n",
       "\n",
       "    .dataframe tbody tr th {\n",
       "        vertical-align: top;\n",
       "    }\n",
       "\n",
       "    .dataframe thead th {\n",
       "        text-align: right;\n",
       "    }\n",
       "</style>\n",
       "<table border=\"1\" class=\"dataframe\">\n",
       "  <thead>\n",
       "    <tr style=\"text-align: right;\">\n",
       "      <th></th>\n",
       "      <th>Id</th>\n",
       "      <th>SepalLengthCm</th>\n",
       "      <th>SepalWidthCm</th>\n",
       "      <th>PetalLengthCm</th>\n",
       "      <th>PetalWidthCm</th>\n",
       "      <th>Species</th>\n",
       "    </tr>\n",
       "  </thead>\n",
       "  <tbody>\n",
       "    <tr>\n",
       "      <th>0</th>\n",
       "      <td>1</td>\n",
       "      <td>5.1</td>\n",
       "      <td>3.5</td>\n",
       "      <td>1.4</td>\n",
       "      <td>0.2</td>\n",
       "      <td>Iris-setosa</td>\n",
       "    </tr>\n",
       "    <tr>\n",
       "      <th>1</th>\n",
       "      <td>2</td>\n",
       "      <td>4.9</td>\n",
       "      <td>3.0</td>\n",
       "      <td>1.4</td>\n",
       "      <td>0.2</td>\n",
       "      <td>Iris-setosa</td>\n",
       "    </tr>\n",
       "    <tr>\n",
       "      <th>2</th>\n",
       "      <td>3</td>\n",
       "      <td>4.7</td>\n",
       "      <td>3.2</td>\n",
       "      <td>1.3</td>\n",
       "      <td>0.2</td>\n",
       "      <td>Iris-setosa</td>\n",
       "    </tr>\n",
       "    <tr>\n",
       "      <th>3</th>\n",
       "      <td>4</td>\n",
       "      <td>4.6</td>\n",
       "      <td>3.1</td>\n",
       "      <td>1.5</td>\n",
       "      <td>0.2</td>\n",
       "      <td>Iris-setosa</td>\n",
       "    </tr>\n",
       "    <tr>\n",
       "      <th>4</th>\n",
       "      <td>5</td>\n",
       "      <td>5.0</td>\n",
       "      <td>3.6</td>\n",
       "      <td>1.4</td>\n",
       "      <td>0.2</td>\n",
       "      <td>Iris-setosa</td>\n",
       "    </tr>\n",
       "  </tbody>\n",
       "</table>\n",
       "</div>"
      ],
      "text/plain": [
       "   Id  SepalLengthCm  SepalWidthCm  PetalLengthCm  PetalWidthCm      Species\n",
       "0   1            5.1           3.5            1.4           0.2  Iris-setosa\n",
       "1   2            4.9           3.0            1.4           0.2  Iris-setosa\n",
       "2   3            4.7           3.2            1.3           0.2  Iris-setosa\n",
       "3   4            4.6           3.1            1.5           0.2  Iris-setosa\n",
       "4   5            5.0           3.6            1.4           0.2  Iris-setosa"
      ]
     },
     "execution_count": 25,
     "metadata": {},
     "output_type": "execute_result"
    }
   ],
   "source": [
    "df = pd.read_csv('Iris.csv')\n",
    "df.head()"
   ]
  },
  {
   "cell_type": "code",
   "execution_count": 32,
   "id": "6a396525-1f2b-4e08-8109-95ea4970eee4",
   "metadata": {},
   "outputs": [],
   "source": [
    "X=df['PetalLengthCm']\n",
    "y=df['PetalWidthCm']"
   ]
  },
  {
   "cell_type": "code",
   "execution_count": 33,
   "id": "2c1e820d-c853-4a68-9551-c5cfd78c6166",
   "metadata": {},
   "outputs": [
    {
     "data": {
      "text/plain": [
       "Text(0.5, 1.0, 'Scatter plot')"
      ]
     },
     "execution_count": 33,
     "metadata": {},
     "output_type": "execute_result"
    },
    {
     "data": {
      "image/png": "[encoded data removed]",
      "text/plain": [
       "<Figure size 640x480 with 1 Axes>"
      ]
     },
     "metadata": {},
     "output_type": "display_data"
    }
   ],
   "source": [
    "plt.scatter(X,y)\n",
    "plt.legend\n",
    "plt.xlabel('Petal Length')\n",
    "plt.ylabel('Petal Width')\n",
    "plt.title('Scatter plot')"
   ]
  },
  {
   "cell_type": "code",
   "execution_count": 38,
   "id": "4354de15-4451-417c-aa8a-a37ee096801b",
   "metadata": {},
   "outputs": [],
   "source": [
    "X_train, X_test, y_train, y_test = train_test_split(X,y, test_size=0.2, random_state=17)"
   ]
  },
  {
   "cell_type": "code",
   "execution_count": 39,
   "id": "d881fbce-9fba-4d9a-ac61-0634ffd14ff8",
   "metadata": {},
   "outputs": [
    {
     "data": {
      "text/plain": [
       "29     1.6\n",
       "98     3.0\n",
       "37     1.5\n",
       "5      1.7\n",
       "81     3.7\n",
       "      ... \n",
       "22     1.0\n",
       "57     3.3\n",
       "134    5.6\n",
       "143    5.9\n",
       "111    5.3\n",
       "Name: PetalLengthCm, Length: 120, dtype: float64"
      ]
     },
     "execution_count": 39,
     "metadata": {},
     "output_type": "execute_result"
    }
   ],
   "source": [
    "X_train"
   ]
  },
  {
   "cell_type": "code",
   "execution_count": 40,
   "id": "3308c74d-526c-490b-b5ab-7db27bae5dd5",
   "metadata": {},
   "outputs": [],
   "source": [
    "X_train = np.array(X_train).reshape(-1,1)\n",
    "X_test = np.array(X_test).reshape(-1,1)"
   ]
  },
  {
   "cell_type": "code",
   "execution_count": 41,
   "id": "d0dc28fe-de62-4201-92c7-fa2bc30c0d62",
   "metadata": {},
   "outputs": [
    {
     "data": {
      "text/plain": [
       "array([[1.6],\n",
       "       [3. ],\n",
       "       [1.5],\n",
       "       [1.7],\n",
       "       [3.7],\n",
       "       [4.3],\n",
       "       [4.2],\n",
       "       [6. ],\n",
       "       [4. ],\n",
       "       [1.5],\n",
       "       [4.2],\n",
       "       [4.4],\n",
       "       [1.5],\n",
       "       [4.1],\n",
       "       [5.5],\n",
       "       [4. ],\n",
       "       [4.8],\n",
       "       [5.1],\n",
       "       [4.7],\n",
       "       [1.7],\n",
       "       [5.4],\n",
       "       [4.6],\n",
       "       [3.9],\n",
       "       [5. ],\n",
       "       [4.2],\n",
       "       [1.3],\n",
       "       [4.9],\n",
       "       [5.1],\n",
       "       [5.8],\n",
       "       [1.3],\n",
       "       [1.4],\n",
       "       [6.1],\n",
       "       [1.4],\n",
       "       [5. ],\n",
       "       [5.8],\n",
       "       [1.7],\n",
       "       [5.5],\n",
       "       [1.9],\n",
       "       [1.2],\n",
       "       [4. ],\n",
       "       [6.1],\n",
       "       [1.6],\n",
       "       [1.6],\n",
       "       [4.4],\n",
       "       [1.4],\n",
       "       [5.2],\n",
       "       [5.9],\n",
       "       [1.4],\n",
       "       [1.4],\n",
       "       [3.9],\n",
       "       [5.6],\n",
       "       [6.6],\n",
       "       [1.5],\n",
       "       [1.6],\n",
       "       [5.6],\n",
       "       [1.4],\n",
       "       [1.5],\n",
       "       [5.1],\n",
       "       [5.7],\n",
       "       [5.7],\n",
       "       [5.3],\n",
       "       [1.2],\n",
       "       [5.1],\n",
       "       [3.3],\n",
       "       [1.3],\n",
       "       [4.4],\n",
       "       [1.5],\n",
       "       [1.7],\n",
       "       [4.8],\n",
       "       [3.6],\n",
       "       [4.9],\n",
       "       [5.6],\n",
       "       [4.1],\n",
       "       [6.9],\n",
       "       [5.6],\n",
       "       [4.3],\n",
       "       [3.5],\n",
       "       [5. ],\n",
       "       [4.9],\n",
       "       [4.6],\n",
       "       [1.6],\n",
       "       [6.3],\n",
       "       [6.1],\n",
       "       [4.4],\n",
       "       [6.7],\n",
       "       [4.5],\n",
       "       [1.4],\n",
       "       [3.5],\n",
       "       [1.4],\n",
       "       [4.7],\n",
       "       [5.1],\n",
       "       [4.5],\n",
       "       [1.5],\n",
       "       [4.7],\n",
       "       [1.1],\n",
       "       [4.9],\n",
       "       [4.6],\n",
       "       [1.9],\n",
       "       [1.3],\n",
       "       [4.2],\n",
       "       [1.5],\n",
       "       [5.4],\n",
       "       [1.6],\n",
       "       [4.8],\n",
       "       [1.4],\n",
       "       [4.7],\n",
       "       [6.4],\n",
       "       [1.5],\n",
       "       [1.3],\n",
       "       [1.4],\n",
       "       [5.8],\n",
       "       [1.5],\n",
       "       [1.5],\n",
       "       [4.5],\n",
       "       [1.5],\n",
       "       [1. ],\n",
       "       [3.3],\n",
       "       [5.6],\n",
       "       [5.9],\n",
       "       [5.3]])"
      ]
     },
     "execution_count": 41,
     "metadata": {},
     "output_type": "execute_result"
    }
   ],
   "source": [
    "X_train"
   ]
  },
  {
   "cell_type": "code",
   "execution_count": null,
   "id": "3b7461dc-ddc8-4110-90d6-bf3c4ca3b17d",
   "metadata": {},
   "outputs": [],
   "source": []
  }
 ],
 "metadata": {
  "kernelspec": {
   "display_name": "Python 3 (ipykernel)",
   "language": "python",
   "name": "python3"
  },
  "language_info": {
   "codemirror_mode": {
    "name": "ipython",
    "version": 3
   },
   "file_extension": ".py",
   "mimetype": "text/x-python",
   "name": "python",
   "nbconvert_exporter": "python",
   "pygments_lexer": "ipython3",
   "version": "3.11.7"
  }
 },
 "nbformat": 4,
 "nbformat_minor": 5
}
